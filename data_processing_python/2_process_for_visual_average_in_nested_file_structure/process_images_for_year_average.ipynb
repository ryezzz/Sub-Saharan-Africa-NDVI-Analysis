{
 "cells": [
  {
   "cell_type": "code",
   "execution_count": 7,
   "metadata": {
    "collapsed": true
   },
   "outputs": [],
   "source": [
    "# This averages images by year based on their folder placement\n",
    "import numpy as np\n",
    "import skimage\n",
    "import os\n",
    "from os import walk\n",
    "from IPython.display import Image\n",
    "import re\n",
    "from PIL import Image"
   ]
  },
  {
   "cell_type": "code",
   "execution_count": 10,
   "metadata": {},
   "outputs": [
    {
     "name": "stdout",
     "output_type": "stream",
     "text": [
      "/Users/ryezzz/Google Drive/parsons classes/Thesis/clean_github_upload/data_processing_python/process_for_visual_average/data/1992_zoom11_FilterBoundsMalawiOverall/11/1209/1101.jpg\n",
      "/Users/ryezzz/Google Drive/parsons classes/Thesis/clean_github_upload/data_processing_python/process_for_visual_average/data/1991_zoom11_FilterBoundsMalawiOverall/11/1209/1101.jpg\n"
     ]
    }
   ],
   "source": [
    "rootDir = os.getcwd()+\"/data/\"\n",
    "\n",
    "# Create a list of all file paths\n",
    "for dirName, subdirList, fileList in os.walk(rootDir):\n",
    "    if dirName.endswith('Overall'):\n",
    "        rootDir2=dirName\n",
    "        image_paths_list = []\n",
    "\n",
    "        for dirName2, subdirList2, fileList2 in os.walk(rootDir2):\n",
    "            for fname2 in fileList2:\n",
    "                if fname2.endswith('.jpg'):\n",
    "                    imgPath= os.path.join(rootDir2, dirName2, fname2)\n",
    "                    image_paths_list.append(imgPath)\n",
    "                            \n",
    "        imlist= image_paths_list\n",
    "\n",
    "        # Assuming all images are the same size, get dimensions of first image\n",
    "        w,h=Image.open(imlist[0]).size\n",
    "        N=len(imlist)\n",
    "\n",
    "        # Create a numpy array of floats to store the average\n",
    "        arr=np.zeros((h,w,3),np.float)\n",
    "\n",
    "        # Build up average pixel intensities, casting each image as an array of floats\n",
    "        for im in imlist:\n",
    "            imarr=np.array(Image.open(im),dtype=np.float)\n",
    "            arr=arr+imarr/N\n",
    "\n",
    "        # Round values in array and cast as 8-bit integer\n",
    "        arr=np.array(np.round(arr),dtype=np.uint8)\n",
    "\n",
    "        # Generate, save and preview final image\n",
    "        out=Image.fromarray(arr,mode=\"RGB\")\n",
    "        print(imlist[0])\n",
    "\n",
    "        # Saving image with year as title using re to remove everything but year\n",
    "        result = re.search('data/(.*)_zoom11', imlist[0])\n",
    "        fileNameNew = result.group(1)\n",
    "        out.save(\"output/\"+fileNameNew+\".png\")\n",
    "        out.show()\n",
    "\n"
   ]
  },
  {
   "cell_type": "code",
   "execution_count": null,
   "metadata": {
    "collapsed": true
   },
   "outputs": [],
   "source": []
  }
 ],
 "metadata": {
  "kernelspec": {
   "display_name": "Python 3",
   "language": "python",
   "name": "python3"
  },
  "language_info": {
   "codemirror_mode": {
    "name": "ipython",
    "version": 3
   },
   "file_extension": ".py",
   "mimetype": "text/x-python",
   "name": "python",
   "nbconvert_exporter": "python",
   "pygments_lexer": "ipython3",
   "version": "3.6.3"
  }
 },
 "nbformat": 4,
 "nbformat_minor": 2
}
