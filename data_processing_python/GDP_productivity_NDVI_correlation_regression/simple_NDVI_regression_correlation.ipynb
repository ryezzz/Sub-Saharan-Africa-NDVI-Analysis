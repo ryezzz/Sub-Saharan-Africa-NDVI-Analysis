{
 "cells": [
  {
   "cell_type": "code",
   "execution_count": 7,
   "metadata": {
    "collapsed": true
   },
   "outputs": [],
   "source": [
    "import numpy as np\n",
    "import pandas as pd\n",
    "import matplotlib.pyplot as plt\n",
    "from sklearn import preprocessing\n",
    "from os import getcwd\n",
    "# Adapted from https://www.datacamp.com/community/tutorials/time-series-analysis-tutorial"
   ]
  },
  {
   "cell_type": "code",
   "execution_count": 8,
   "metadata": {},
   "outputs": [],
   "source": [
    "file = getcwd()+\"/data/\"+\"worldbankNDVIRegression.csv\"\n",
    "df = pd.DataFrame.from_csv(file)"
   ]
  },
  {
   "cell_type": "code",
   "execution_count": 9,
   "metadata": {},
   "outputs": [
    {
     "name": "stdout",
     "output_type": "stream",
     "text": [
      "<class 'pandas.core.frame.DataFrame'>\n",
      "Index: 29 entries, Malawi to nan\n",
      "Data columns (total 4 columns):\n",
      "Time                                                                        27 non-null float64\n",
      "Agriculture, value added per worker (constant 2010 US$) [NV.AGR.EMPL.KD]    26 non-null float64\n",
      "GDP per capita growth (annual %) [NY.GDP.PCAP.KD.ZG]                        27 non-null float64\n",
      "NDVI                                                                        27 non-null float64\n",
      "dtypes: float64(4)\n",
      "memory usage: 1.1+ KB\n"
     ]
    }
   ],
   "source": [
    "df.info()"
   ]
  },
  {
   "cell_type": "code",
   "execution_count": 10,
   "metadata": {
    "collapsed": true
   },
   "outputs": [],
   "source": [
    "df = df.dropna()"
   ]
  },
  {
   "cell_type": "code",
   "execution_count": 11,
   "metadata": {
    "collapsed": true
   },
   "outputs": [],
   "source": [
    "df.columns = ['year', 'gdp', 'productivity', 'ndvi']\n"
   ]
  },
  {
   "cell_type": "code",
   "execution_count": 12,
   "metadata": {
    "collapsed": true
   },
   "outputs": [],
   "source": [
    "\n",
    "# I had to switch to Numeric from float\n",
    "\n",
    "df.year = pd.to_numeric(df.year, errors='raise', downcast='integer')\n",
    "\n",
    "df.year = pd.to_datetime(df.year, format=\"%Y\")\n"
   ]
  },
  {
   "cell_type": "code",
   "execution_count": 13,
   "metadata": {
    "collapsed": true
   },
   "outputs": [],
   "source": [
    "dfNew = df.drop(['year'], axis=1)\n",
    "\n",
    "# Create x, where x the 'scores' column's values as floats\n",
    "x = dfNew.values.astype(float)\n",
    "\n",
    "# Create a minimum and maximum processor object\n",
    "min_max_scaler = preprocessing.MinMaxScaler()\n",
    "\n",
    "# Create an object to transform the data to fit minmax processor\n",
    "x_scaled = min_max_scaler.fit_transform(x)\n",
    "\n",
    "# Run the normalizer on the dataframe\n",
    "df_normalized = pd.DataFrame(x_scaled)"
   ]
  },
  {
   "cell_type": "code",
   "execution_count": 14,
   "metadata": {},
   "outputs": [
    {
     "data": {
      "text/html": [
       "<div>\n",
       "<style>\n",
       "    .dataframe thead tr:only-child th {\n",
       "        text-align: right;\n",
       "    }\n",
       "\n",
       "    .dataframe thead th {\n",
       "        text-align: left;\n",
       "    }\n",
       "\n",
       "    .dataframe tbody tr th {\n",
       "        vertical-align: top;\n",
       "    }\n",
       "</style>\n",
       "<table border=\"1\" class=\"dataframe\">\n",
       "  <thead>\n",
       "    <tr style=\"text-align: right;\">\n",
       "      <th></th>\n",
       "      <th>0</th>\n",
       "      <th>1</th>\n",
       "      <th>2</th>\n",
       "    </tr>\n",
       "  </thead>\n",
       "  <tbody>\n",
       "    <tr>\n",
       "      <th>0</th>\n",
       "      <td>0.309428</td>\n",
       "      <td>0.655176</td>\n",
       "      <td>0.587539</td>\n",
       "    </tr>\n",
       "    <tr>\n",
       "      <th>1</th>\n",
       "      <td>0.000000</td>\n",
       "      <td>0.093773</td>\n",
       "      <td>0.376908</td>\n",
       "    </tr>\n",
       "    <tr>\n",
       "      <th>2</th>\n",
       "      <td>0.462841</td>\n",
       "      <td>0.769061</td>\n",
       "      <td>0.905503</td>\n",
       "    </tr>\n",
       "    <tr>\n",
       "      <th>3</th>\n",
       "      <td>0.075468</td>\n",
       "      <td>0.000000</td>\n",
       "      <td>0.000000</td>\n",
       "    </tr>\n",
       "    <tr>\n",
       "      <th>4</th>\n",
       "      <td>0.445918</td>\n",
       "      <td>1.000000</td>\n",
       "      <td>0.539522</td>\n",
       "    </tr>\n",
       "    <tr>\n",
       "      <th>5</th>\n",
       "      <td>0.757673</td>\n",
       "      <td>0.607227</td>\n",
       "      <td>0.797451</td>\n",
       "    </tr>\n",
       "    <tr>\n",
       "      <th>6</th>\n",
       "      <td>0.718180</td>\n",
       "      <td>0.449155</td>\n",
       "      <td>0.632346</td>\n",
       "    </tr>\n",
       "    <tr>\n",
       "      <th>7</th>\n",
       "      <td>0.837917</td>\n",
       "      <td>0.437210</td>\n",
       "      <td>0.800465</td>\n",
       "    </tr>\n",
       "    <tr>\n",
       "      <th>8</th>\n",
       "      <td>0.959870</td>\n",
       "      <td>0.403098</td>\n",
       "      <td>0.940803</td>\n",
       "    </tr>\n",
       "    <tr>\n",
       "      <th>9</th>\n",
       "      <td>1.000000</td>\n",
       "      <td>0.354668</td>\n",
       "      <td>0.825535</td>\n",
       "    </tr>\n",
       "    <tr>\n",
       "      <th>10</th>\n",
       "      <td>0.834182</td>\n",
       "      <td>0.116986</td>\n",
       "      <td>0.461818</td>\n",
       "    </tr>\n",
       "    <tr>\n",
       "      <th>11</th>\n",
       "      <td>0.899469</td>\n",
       "      <td>0.369883</td>\n",
       "      <td>0.659698</td>\n",
       "    </tr>\n",
       "    <tr>\n",
       "      <th>12</th>\n",
       "      <td>0.921495</td>\n",
       "      <td>0.520851</td>\n",
       "      <td>0.870699</td>\n",
       "    </tr>\n",
       "    <tr>\n",
       "      <th>13</th>\n",
       "      <td>0.927624</td>\n",
       "      <td>0.507787</td>\n",
       "      <td>0.993613</td>\n",
       "    </tr>\n",
       "    <tr>\n",
       "      <th>14</th>\n",
       "      <td>0.702928</td>\n",
       "      <td>0.422881</td>\n",
       "      <td>0.645102</td>\n",
       "    </tr>\n",
       "    <tr>\n",
       "      <th>15</th>\n",
       "      <td>0.588254</td>\n",
       "      <td>0.471846</td>\n",
       "      <td>0.940810</td>\n",
       "    </tr>\n",
       "    <tr>\n",
       "      <th>16</th>\n",
       "      <td>0.660258</td>\n",
       "      <td>0.651557</td>\n",
       "      <td>0.996967</td>\n",
       "    </tr>\n",
       "    <tr>\n",
       "      <th>17</th>\n",
       "      <td>0.645591</td>\n",
       "      <td>0.576806</td>\n",
       "      <td>0.910793</td>\n",
       "    </tr>\n",
       "    <tr>\n",
       "      <th>18</th>\n",
       "      <td>0.643864</td>\n",
       "      <td>0.602534</td>\n",
       "      <td>1.000000</td>\n",
       "    </tr>\n",
       "    <tr>\n",
       "      <th>19</th>\n",
       "      <td>0.688682</td>\n",
       "      <td>0.549567</td>\n",
       "      <td>0.817088</td>\n",
       "    </tr>\n",
       "    <tr>\n",
       "      <th>20</th>\n",
       "      <td>0.693414</td>\n",
       "      <td>0.475737</td>\n",
       "      <td>0.572202</td>\n",
       "    </tr>\n",
       "    <tr>\n",
       "      <th>21</th>\n",
       "      <td>0.626144</td>\n",
       "      <td>0.366181</td>\n",
       "      <td>0.765143</td>\n",
       "    </tr>\n",
       "    <tr>\n",
       "      <th>22</th>\n",
       "      <td>0.667126</td>\n",
       "      <td>0.490750</td>\n",
       "      <td>0.810897</td>\n",
       "    </tr>\n",
       "    <tr>\n",
       "      <th>23</th>\n",
       "      <td>0.705784</td>\n",
       "      <td>0.509973</td>\n",
       "      <td>0.750232</td>\n",
       "    </tr>\n",
       "    <tr>\n",
       "      <th>24</th>\n",
       "      <td>0.623706</td>\n",
       "      <td>0.402081</td>\n",
       "      <td>0.695991</td>\n",
       "    </tr>\n",
       "    <tr>\n",
       "      <th>25</th>\n",
       "      <td>0.541353</td>\n",
       "      <td>0.390654</td>\n",
       "      <td>0.683504</td>\n",
       "    </tr>\n",
       "  </tbody>\n",
       "</table>\n",
       "</div>"
      ],
      "text/plain": [
       "           0         1         2\n",
       "0   0.309428  0.655176  0.587539\n",
       "1   0.000000  0.093773  0.376908\n",
       "2   0.462841  0.769061  0.905503\n",
       "3   0.075468  0.000000  0.000000\n",
       "4   0.445918  1.000000  0.539522\n",
       "5   0.757673  0.607227  0.797451\n",
       "6   0.718180  0.449155  0.632346\n",
       "7   0.837917  0.437210  0.800465\n",
       "8   0.959870  0.403098  0.940803\n",
       "9   1.000000  0.354668  0.825535\n",
       "10  0.834182  0.116986  0.461818\n",
       "11  0.899469  0.369883  0.659698\n",
       "12  0.921495  0.520851  0.870699\n",
       "13  0.927624  0.507787  0.993613\n",
       "14  0.702928  0.422881  0.645102\n",
       "15  0.588254  0.471846  0.940810\n",
       "16  0.660258  0.651557  0.996967\n",
       "17  0.645591  0.576806  0.910793\n",
       "18  0.643864  0.602534  1.000000\n",
       "19  0.688682  0.549567  0.817088\n",
       "20  0.693414  0.475737  0.572202\n",
       "21  0.626144  0.366181  0.765143\n",
       "22  0.667126  0.490750  0.810897\n",
       "23  0.705784  0.509973  0.750232\n",
       "24  0.623706  0.402081  0.695991\n",
       "25  0.541353  0.390654  0.683504"
      ]
     },
     "execution_count": 14,
     "metadata": {},
     "output_type": "execute_result"
    }
   ],
   "source": [
    "df_normalized"
   ]
  },
  {
   "cell_type": "code",
   "execution_count": 15,
   "metadata": {},
   "outputs": [
    {
     "data": {
      "text/plain": [
       "Country Name\n",
       "Malawi   1991-01-01\n",
       "Malawi   1992-01-01\n",
       "Malawi   1993-01-01\n",
       "Malawi   1994-01-01\n",
       "Malawi   1995-01-01\n",
       "Malawi   1996-01-01\n",
       "Malawi   1997-01-01\n",
       "Malawi   1998-01-01\n",
       "Malawi   1999-01-01\n",
       "Malawi   2000-01-01\n",
       "Malawi   2001-01-01\n",
       "Malawi   2002-01-01\n",
       "Malawi   2003-01-01\n",
       "Malawi   2004-01-01\n",
       "Malawi   2005-01-01\n",
       "Malawi   2006-01-01\n",
       "Malawi   2007-01-01\n",
       "Malawi   2008-01-01\n",
       "Malawi   2009-01-01\n",
       "Malawi   2010-01-01\n",
       "Malawi   2011-01-01\n",
       "Malawi   2012-01-01\n",
       "Malawi   2013-01-01\n",
       "Malawi   2014-01-01\n",
       "Malawi   2015-01-01\n",
       "Malawi   2016-01-01\n",
       "Name: year, dtype: datetime64[ns]"
      ]
     },
     "execution_count": 15,
     "metadata": {},
     "output_type": "execute_result"
    }
   ],
   "source": [
    "df_normalized.year = df.year\n",
    "df_normalized.year"
   ]
  },
  {
   "cell_type": "code",
   "execution_count": 16,
   "metadata": {
    "collapsed": true
   },
   "outputs": [],
   "source": [
    "df_normalized.set_index(df_normalized.year, inplace=True)\n",
    "df_normalized.columns = ['Agri_value_added', 'gdp', 'ndvi']\n",
    "\n"
   ]
  },
  {
   "cell_type": "code",
   "execution_count": 17,
   "metadata": {},
   "outputs": [
    {
     "data": {
      "text/html": [
       "<div>\n",
       "<style>\n",
       "    .dataframe thead tr:only-child th {\n",
       "        text-align: right;\n",
       "    }\n",
       "\n",
       "    .dataframe thead th {\n",
       "        text-align: left;\n",
       "    }\n",
       "\n",
       "    .dataframe tbody tr th {\n",
       "        vertical-align: top;\n",
       "    }\n",
       "</style>\n",
       "<table border=\"1\" class=\"dataframe\">\n",
       "  <thead>\n",
       "    <tr style=\"text-align: right;\">\n",
       "      <th></th>\n",
       "      <th>Agri_value_added</th>\n",
       "      <th>gdp</th>\n",
       "      <th>ndvi</th>\n",
       "    </tr>\n",
       "    <tr>\n",
       "      <th>year</th>\n",
       "      <th></th>\n",
       "      <th></th>\n",
       "      <th></th>\n",
       "    </tr>\n",
       "  </thead>\n",
       "  <tbody>\n",
       "    <tr>\n",
       "      <th>1991-01-01</th>\n",
       "      <td>0.309428</td>\n",
       "      <td>0.655176</td>\n",
       "      <td>0.587539</td>\n",
       "    </tr>\n",
       "    <tr>\n",
       "      <th>1992-01-01</th>\n",
       "      <td>0.000000</td>\n",
       "      <td>0.093773</td>\n",
       "      <td>0.376908</td>\n",
       "    </tr>\n",
       "    <tr>\n",
       "      <th>1993-01-01</th>\n",
       "      <td>0.462841</td>\n",
       "      <td>0.769061</td>\n",
       "      <td>0.905503</td>\n",
       "    </tr>\n",
       "    <tr>\n",
       "      <th>1994-01-01</th>\n",
       "      <td>0.075468</td>\n",
       "      <td>0.000000</td>\n",
       "      <td>0.000000</td>\n",
       "    </tr>\n",
       "    <tr>\n",
       "      <th>1995-01-01</th>\n",
       "      <td>0.445918</td>\n",
       "      <td>1.000000</td>\n",
       "      <td>0.539522</td>\n",
       "    </tr>\n",
       "  </tbody>\n",
       "</table>\n",
       "</div>"
      ],
      "text/plain": [
       "            Agri_value_added       gdp      ndvi\n",
       "year                                            \n",
       "1991-01-01          0.309428  0.655176  0.587539\n",
       "1992-01-01          0.000000  0.093773  0.376908\n",
       "1993-01-01          0.462841  0.769061  0.905503\n",
       "1994-01-01          0.075468  0.000000  0.000000\n",
       "1995-01-01          0.445918  1.000000  0.539522"
      ]
     },
     "execution_count": 17,
     "metadata": {},
     "output_type": "execute_result"
    }
   ],
   "source": [
    "df_normalized.head()"
   ]
  },
  {
   "cell_type": "code",
   "execution_count": 18,
   "metadata": {
    "collapsed": true
   },
   "outputs": [],
   "source": [
    "color = ['LightBlue', 'DarkOrange', 'DarkGreen']\n",
    "\n",
    "\n",
    "df_normalized.plot(figsize=(20,10), linewidth=5, fontsize=20, color = color)\n",
    "plt.xlabel('Year', fontsize=20);"
   ]
  },
  {
   "cell_type": "code",
   "execution_count": 19,
   "metadata": {},
   "outputs": [
    {
     "data": {
      "text/html": [
       "<div>\n",
       "<style>\n",
       "    .dataframe thead tr:only-child th {\n",
       "        text-align: right;\n",
       "    }\n",
       "\n",
       "    .dataframe thead th {\n",
       "        text-align: left;\n",
       "    }\n",
       "\n",
       "    .dataframe tbody tr th {\n",
       "        vertical-align: top;\n",
       "    }\n",
       "</style>\n",
       "<table border=\"1\" class=\"dataframe\">\n",
       "  <thead>\n",
       "    <tr style=\"text-align: right;\">\n",
       "      <th></th>\n",
       "      <th>Agri_value_added</th>\n",
       "      <th>gdp</th>\n",
       "      <th>ndvi</th>\n",
       "    </tr>\n",
       "  </thead>\n",
       "  <tbody>\n",
       "    <tr>\n",
       "      <th>Agri_value_added</th>\n",
       "      <td>1.000000</td>\n",
       "      <td>0.148469</td>\n",
       "      <td>0.619652</td>\n",
       "    </tr>\n",
       "    <tr>\n",
       "      <th>gdp</th>\n",
       "      <td>0.148469</td>\n",
       "      <td>1.000000</td>\n",
       "      <td>0.545208</td>\n",
       "    </tr>\n",
       "    <tr>\n",
       "      <th>ndvi</th>\n",
       "      <td>0.619652</td>\n",
       "      <td>0.545208</td>\n",
       "      <td>1.000000</td>\n",
       "    </tr>\n",
       "  </tbody>\n",
       "</table>\n",
       "</div>"
      ],
      "text/plain": [
       "                  Agri_value_added       gdp      ndvi\n",
       "Agri_value_added          1.000000  0.148469  0.619652\n",
       "gdp                       0.148469  1.000000  0.545208\n",
       "ndvi                      0.619652  0.545208  1.000000"
      ]
     },
     "execution_count": 19,
     "metadata": {},
     "output_type": "execute_result"
    }
   ],
   "source": [
    "df_normalized.corr()\n"
   ]
  },
  {
   "cell_type": "code",
   "execution_count": 20,
   "metadata": {},
   "outputs": [
    {
     "name": "stderr",
     "output_type": "stream",
     "text": [
      "/Users/ryezzz/anaconda3/lib/python3.6/site-packages/statsmodels/compat/pandas.py:56: FutureWarning: The pandas.core.datetools module is deprecated and will be removed in a future version. Please use the pandas.tseries module instead.\n",
      "  from pandas.core import datetools\n"
     ]
    }
   ],
   "source": [
    "# from numpy import concatenate\n",
    "# from matplotlib import pyplot\n",
    "# from pandas import read_csv\n",
    "# from pandas import DataFrame\n",
    "# from pandas import concat\n",
    "# from sklearn.preprocessing import MinMaxScaler\n",
    "# from sklearn.preprocessing import LabelEncoder\n",
    "# from sklearn.metrics import mean_squared_error\n",
    "# from keras.models import Sequential\n",
    "# from keras.layers import Dense\n",
    "# from keras.layers import LSTM\n",
    "import statsmodels.api as sm\n"
   ]
  },
  {
   "cell_type": "code",
   "execution_count": 21,
   "metadata": {},
   "outputs": [
    {
     "name": "stdout",
     "output_type": "stream",
     "text": [
      "                            OLS Regression Results                            \n",
      "==============================================================================\n",
      "Dep. Variable:                    gdp   R-squared:                       0.888\n",
      "Model:                            OLS   Adj. R-squared:                  0.884\n",
      "Method:                 Least Squares   F-statistic:                     199.0\n",
      "Date:                Tue, 29 May 2018   Prob (F-statistic):           2.08e-13\n",
      "Time:                        22:00:14   Log-Likelihood:                 9.1274\n",
      "No. Observations:                  26   AIC:                            -16.25\n",
      "Df Residuals:                      25   BIC:                            -15.00\n",
      "Df Model:                           1                                         \n",
      "Covariance Type:            nonrobust                                         \n",
      "==============================================================================\n",
      "                 coef    std err          t      P>|t|      [0.025      0.975]\n",
      "------------------------------------------------------------------------------\n",
      "ndvi           0.6303      0.045     14.106      0.000       0.538       0.722\n",
      "==============================================================================\n",
      "Omnibus:                       28.123   Durbin-Watson:                   1.700\n",
      "Prob(Omnibus):                  0.000   Jarque-Bera (JB):               56.807\n",
      "Skew:                           2.156   Prob(JB):                     4.62e-13\n",
      "Kurtosis:                       8.818   Cond. No.                         1.00\n",
      "==============================================================================\n",
      "\n",
      "Warnings:\n",
      "[1] Standard Errors assume that the covariance matrix of the errors is correctly specified.\n"
     ]
    }
   ],
   "source": [
    "df = df_normalized\n",
    "df['const']=1\n",
    "# print (df['gdp'])\n",
    "model1=sm.OLS(endog=df['gdp'],exog=df['ndvi'])\n",
    "results1=model1.fit()\n",
    "print(results1.summary())\n"
   ]
  },
  {
   "cell_type": "code",
   "execution_count": 22,
   "metadata": {},
   "outputs": [
    {
     "name": "stdout",
     "output_type": "stream",
     "text": [
      "                            OLS Regression Results                            \n",
      "==============================================================================\n",
      "Dep. Variable:       Agri_value_added   R-squared:                       0.922\n",
      "Model:                            OLS   Adj. R-squared:                  0.919\n",
      "Method:                 Least Squares   F-statistic:                     297.1\n",
      "Date:                Tue, 29 May 2018   Prob (F-statistic):           2.18e-15\n",
      "Time:                        22:00:15   Log-Likelihood:                 5.8349\n",
      "No. Observations:                  26   AIC:                            -9.670\n",
      "Df Residuals:                      25   BIC:                            -8.412\n",
      "Df Model:                           1                                         \n",
      "Covariance Type:            nonrobust                                         \n",
      "==============================================================================\n",
      "                 coef    std err          t      P>|t|      [0.025      0.975]\n",
      "------------------------------------------------------------------------------\n",
      "ndvi           0.8742      0.051     17.238      0.000       0.770       0.979\n",
      "==============================================================================\n",
      "Omnibus:                        0.129   Durbin-Watson:                   0.634\n",
      "Prob(Omnibus):                  0.937   Jarque-Bera (JB):                0.350\n",
      "Skew:                           0.017   Prob(JB):                        0.839\n",
      "Kurtosis:                       2.432   Cond. No.                         1.00\n",
      "==============================================================================\n",
      "\n",
      "Warnings:\n",
      "[1] Standard Errors assume that the covariance matrix of the errors is correctly specified.\n"
     ]
    }
   ],
   "source": [
    "df = df_normalized\n",
    "df['const']=1\n",
    "# print (df['gdp'])\n",
    "model1=sm.OLS(endog=df['Agri_value_added'],exog=df['ndvi'])\n",
    "results1=model1.fit()\n",
    "print(results1.summary())"
   ]
  },
  {
   "cell_type": "code",
   "execution_count": null,
   "metadata": {
    "collapsed": true
   },
   "outputs": [],
   "source": []
  },
  {
   "cell_type": "code",
   "execution_count": null,
   "metadata": {
    "collapsed": true
   },
   "outputs": [],
   "source": []
  }
 ],
 "metadata": {
  "kernelspec": {
   "display_name": "Python 3",
   "language": "python",
   "name": "python3"
  },
  "language_info": {
   "codemirror_mode": {
    "name": "ipython",
    "version": 3
   },
   "file_extension": ".py",
   "mimetype": "text/x-python",
   "name": "python",
   "nbconvert_exporter": "python",
   "pygments_lexer": "ipython3",
   "version": "3.6.3"
  }
 },
 "nbformat": 4,
 "nbformat_minor": 2
}
