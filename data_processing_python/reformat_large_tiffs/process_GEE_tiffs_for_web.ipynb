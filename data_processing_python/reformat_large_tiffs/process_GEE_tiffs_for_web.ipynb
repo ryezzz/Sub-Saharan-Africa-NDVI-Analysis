{
 "cells": [
  {
   "cell_type": "code",
   "execution_count": 8,
   "metadata": {
    "collapsed": true
   },
   "outputs": [],
   "source": [
    "#Processes High Resolution satellite images compiled with Google Earth Engine \n",
    "#Will rescale any tiff to 2% size\n",
    "from skimage.transform import rescale\n",
    "from skimage import io\n",
    "import numpy as np\n",
    "import os\n",
    "from os import walk"
   ]
  },
  {
   "cell_type": "code",
   "execution_count": 9,
   "metadata": {},
   "outputs": [
    {
     "name": "stdout",
     "output_type": "stream",
     "text": [
      ".DS_Store\n",
      "image_names_list.txt\n",
      ".DS_Store\n",
      "1993_FilterBoundsMalawiOverall.tif\n",
      "1993_FilterBoundsMalawiOverall.tif is processing...\n"
     ]
    },
    {
     "name": "stderr",
     "output_type": "stream",
     "text": [
      "/Users/ryezzz/anaconda3/lib/python3.6/site-packages/skimage/transform/_warps.py:84: UserWarning: The default mode, 'constant', will be changed to 'reflect' in skimage 0.15.\n",
      "  warn(\"The default mode, 'constant', will be changed to 'reflect' in \"\n",
      "/Users/ryezzz/anaconda3/lib/python3.6/site-packages/skimage/util/dtype.py:122: UserWarning: Possible precision loss when converting from float64 to uint8\n",
      "  .format(dtypeobj_in, dtypeobj_out))\n"
     ]
    },
    {
     "name": "stdout",
     "output_type": "stream",
     "text": [
      "1993_FilterBoundsMalawiOverall.tif saved\n",
      "1994_FilterBoundsMalawiOverall.tif\n",
      "1994_FilterBoundsMalawiOverall.tif is processing...\n",
      "1994_FilterBoundsMalawiOverall.tif saved\n",
      "['1993_FilterBoundsMalawiOverall.png', '1994_FilterBoundsMalawiOverall.png']\n"
     ]
    }
   ],
   "source": [
    "# image_paths_list = []\n",
    "image_names_list = []\n",
    "\n",
    "# Set root directory to current working directory\n",
    "rootDir = os.getcwd()+\"/data\"\n",
    "\n",
    "for dirName, subdirList, fileList in os.walk(rootDir):\n",
    "    for fname in fileList:\n",
    "        if fname.endswith('.tif') and \"Overall\" in fname:\n",
    "            print(fname + \" is processing...\")\n",
    "#           Define image path\n",
    "            imgPath= os.path.join(rootDir, dirName, fname)\n",
    "#           Read image\n",
    "            single_image = io.imread(imgPath)\n",
    "#           rescale image\n",
    "            rescaled_single_image = rescale(single_image, 0.02)\n",
    "#           save image                        \n",
    "            io.imsave('output/' + fname.replace('.tif', '.png'), rescaled_single_image)\n",
    "#           Add path to list for text export                        \n",
    "#           image_paths_list.append(imgPath)\n",
    "#           Add names to list for text export                        \n",
    "            image_names_list.append(fname.replace('.tif', '.png'))\n",
    "            print(fname+' saved')\n",
    "\n",
    "np.savetxt('data/image_names_list.txt', image_names_list, delimiter=\",\", fmt=\"%a\") \n",
    "print(image_names_list)"
   ]
  },
  {
   "cell_type": "code",
   "execution_count": null,
   "metadata": {
    "collapsed": true
   },
   "outputs": [],
   "source": []
  },
  {
   "cell_type": "code",
   "execution_count": null,
   "metadata": {
    "collapsed": true
   },
   "outputs": [],
   "source": []
  }
 ],
 "metadata": {
  "kernelspec": {
   "display_name": "Python 3",
   "language": "python",
   "name": "python3"
  },
  "language_info": {
   "codemirror_mode": {
    "name": "ipython",
    "version": 3
   },
   "file_extension": ".py",
   "mimetype": "text/x-python",
   "name": "python",
   "nbconvert_exporter": "python",
   "pygments_lexer": "ipython3",
   "version": "3.6.3"
  }
 },
 "nbformat": 4,
 "nbformat_minor": 2
}
